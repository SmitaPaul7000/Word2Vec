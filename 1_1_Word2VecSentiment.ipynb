{
  "nbformat": 4,
  "nbformat_minor": 0,
  "metadata": {
    "colab": {
      "provenance": []
    },
    "kernelspec": {
      "name": "python3",
      "display_name": "Python 3"
    },
    "language_info": {
      "name": "python"
    }
  },
  "cells": [
    {
      "cell_type": "code",
      "execution_count": 1,
      "metadata": {
        "colab": {
          "base_uri": "https://localhost:8080/"
        },
        "id": "CaRMm2lj0jsT",
        "outputId": "5d4abf03-1d5b-4cf6-ebe4-b262f32cd46b"
      },
      "outputs": [
        {
          "output_type": "stream",
          "name": "stderr",
          "text": [
            "[nltk_data] Downloading package punkt to /root/nltk_data...\n",
            "[nltk_data]   Unzipping tokenizers/punkt.zip.\n"
          ]
        },
        {
          "output_type": "stream",
          "name": "stdout",
          "text": [
            "[-5.3637347e-04  2.3664984e-04  5.1043299e-03  9.0108141e-03\n",
            " -9.3033137e-03 -7.1168668e-03  6.4601046e-03  8.9729978e-03\n",
            " -5.0165807e-03 -3.7636335e-03  7.3809074e-03 -1.5337755e-03\n",
            " -4.5362012e-03  6.5540806e-03 -4.8600291e-03 -1.8159966e-03\n",
            "  2.8766592e-03  9.9195505e-04 -8.2863886e-03 -9.4502876e-03\n",
            "  7.3122410e-03  5.0713350e-03  6.7588771e-03  7.6212117e-04\n",
            "  6.3507855e-03 -3.4049307e-03 -9.4684598e-04  5.7689613e-03\n",
            " -7.5226836e-03 -3.9361427e-03 -7.5119403e-03 -9.3012175e-04\n",
            "  9.5388936e-03 -7.3197382e-03 -2.3339323e-03 -1.9378333e-03\n",
            "  8.0773048e-03 -5.9308102e-03  4.4817763e-05 -4.7542653e-03\n",
            " -9.6035041e-03  5.0074253e-03 -8.7603759e-03 -4.3916525e-03\n",
            " -3.4381239e-05 -2.9688881e-04 -7.6620355e-03  9.6152881e-03\n",
            "  4.9828705e-03  9.2333183e-03 -8.1588905e-03  4.4960594e-03\n",
            " -4.1363789e-03  8.2365924e-04  8.4988978e-03 -4.4620461e-03\n",
            "  4.5169741e-03 -6.7872386e-03 -3.5483269e-03  9.3989586e-03\n",
            " -1.5773958e-03  3.2078251e-04 -4.1405573e-03 -7.6825316e-03\n",
            " -1.5085457e-03  2.4703259e-03 -8.8875851e-04  5.5352133e-03\n",
            " -2.7438649e-03  2.2601329e-03  5.4556536e-03  8.3465884e-03\n",
            " -1.4532228e-03 -9.2083123e-03  4.3701418e-03  5.7181501e-04\n",
            "  7.4424772e-03 -8.1391080e-04 -2.6387037e-03 -8.7544145e-03\n",
            " -8.5733680e-04  2.8260914e-03  5.4015364e-03  7.0532332e-03\n",
            " -5.7031624e-03  1.8586341e-03  6.0898038e-03 -4.7979658e-03\n",
            " -3.1071685e-03  6.7979833e-03  1.6315080e-03  1.8958446e-04\n",
            "  3.4735198e-03  2.1805338e-04  9.6198227e-03  5.0610946e-03\n",
            " -8.9177145e-03 -7.0417561e-03  9.0214459e-04  6.3923360e-03]\n"
          ]
        }
      ],
      "source": [
        "import gensim\n",
        "from gensim.models import Word2Vec\n",
        "import nltk\n",
        "nltk.download('punkt')\n",
        "\n",
        "# Sample corpus\n",
        "corpus = [\n",
        "    ['I', 'love', 'this', 'movie'],\n",
        "    ['This', 'movie', 'is', 'terrible'],\n",
        "    ['I', 'enjoy', 'watching', 'this', 'film'],\n",
        "    ['This', 'film', 'is', 'fantastic'],\n",
        "    ['I', 'hate', 'this', 'movie'],\n",
        "    ['This', 'movie', 'is', 'great'],\n",
        "    ['I', 'dislike', 'this', 'movie']\n",
        "]\n",
        "\n",
        "# Train Word2Vec model\n",
        "word2vec_model = Word2Vec(sentences=corpus, vector_size=100, window=5, min_count=1, workers=4)\n",
        "\n",
        "# Get embeddings for a word\n",
        "print(word2vec_model.wv['movie'])\n"
      ]
    },
    {
      "cell_type": "code",
      "source": [
        "# Sample sentiment data: (sentence, sentiment)\n",
        "sentiment_data = [\n",
        "    (['I', 'love', 'this', 'movie'], 'positive'),\n",
        "    (['This', 'movie', 'is', 'terrible'], 'negative'),\n",
        "    (['I', 'enjoy', 'watching', 'this', 'film'], 'positive'),\n",
        "    (['This', 'film', 'is', 'fantastic'], 'positive'),\n",
        "    (['I', 'hate', 'this', 'movie'], 'negative'),\n",
        "    (['This', 'movie', 'is', 'great'], 'positive'),\n",
        "    (['I', 'dislike', 'this', 'movie'], 'negative')\n",
        "]\n"
      ],
      "metadata": {
        "id": "qw8ffDHR07wp"
      },
      "execution_count": 2,
      "outputs": []
    },
    {
      "cell_type": "code",
      "source": [
        "import numpy as np\n",
        "\n",
        "# Convert words to embeddings\n",
        "def word_to_embedding(word):\n",
        "    if word in word2vec_model.wv:\n",
        "        return word2vec_model.wv[word]\n",
        "    else:\n",
        "        return np.zeros(word2vec_model.vector_size)\n",
        "\n",
        "# Prepare features and labels for the sentiment dataset\n",
        "X = []\n",
        "y = []\n",
        "for sentence, sentiment in sentiment_data:\n",
        "    sentence_embeddings = [word_to_embedding(word) for word in sentence]\n",
        "    sentence_vector = np.mean(sentence_embeddings, axis=0)  # Average embeddings to get a fixed-size vector for the sentence\n",
        "    X.append(sentence_vector)\n",
        "    y.append(sentiment)\n",
        "\n",
        "# Convert labels to numerical format\n",
        "from sklearn.preprocessing import LabelEncoder\n",
        "\n",
        "label_encoder = LabelEncoder()\n",
        "y_encoded = label_encoder.fit_transform(y)\n"
      ],
      "metadata": {
        "id": "4Rz5qT2I076k"
      },
      "execution_count": 3,
      "outputs": []
    },
    {
      "cell_type": "code",
      "source": [
        "from sklearn.ensemble import RandomForestClassifier\n",
        "from sklearn.model_selection import train_test_split\n",
        "from sklearn.metrics import classification_report\n",
        "\n",
        "# Split the data into training and testing sets\n",
        "X_train, X_test, y_train, y_test = train_test_split(X, y_encoded, test_size=0.2, random_state=42)\n",
        "\n",
        "# Train the Random Forest classifier\n",
        "clf = RandomForestClassifier(n_estimators=100, random_state=42)\n",
        "clf.fit(X_train, y_train)\n",
        "\n",
        "# Predict on the test set\n",
        "y_pred = clf.predict(X_test)\n",
        "\n",
        "# Evaluate the model\n",
        "print(classification_report(y_test, y_pred, target_names=label_encoder.classes_))\n"
      ],
      "metadata": {
        "colab": {
          "base_uri": "https://localhost:8080/"
        },
        "id": "pMnXCZNM1HDC",
        "outputId": "20cd4519-b4f0-42bb-82dd-b26a96d67316"
      },
      "execution_count": 4,
      "outputs": [
        {
          "output_type": "stream",
          "name": "stdout",
          "text": [
            "              precision    recall  f1-score   support\n",
            "\n",
            "    negative       0.00      0.00      0.00         1\n",
            "    positive       0.50      1.00      0.67         1\n",
            "\n",
            "    accuracy                           0.50         2\n",
            "   macro avg       0.25      0.50      0.33         2\n",
            "weighted avg       0.25      0.50      0.33         2\n",
            "\n"
          ]
        },
        {
          "output_type": "stream",
          "name": "stderr",
          "text": [
            "/usr/local/lib/python3.10/dist-packages/sklearn/metrics/_classification.py:1344: UndefinedMetricWarning: Precision and F-score are ill-defined and being set to 0.0 in labels with no predicted samples. Use `zero_division` parameter to control this behavior.\n",
            "  _warn_prf(average, modifier, msg_start, len(result))\n",
            "/usr/local/lib/python3.10/dist-packages/sklearn/metrics/_classification.py:1344: UndefinedMetricWarning: Precision and F-score are ill-defined and being set to 0.0 in labels with no predicted samples. Use `zero_division` parameter to control this behavior.\n",
            "  _warn_prf(average, modifier, msg_start, len(result))\n",
            "/usr/local/lib/python3.10/dist-packages/sklearn/metrics/_classification.py:1344: UndefinedMetricWarning: Precision and F-score are ill-defined and being set to 0.0 in labels with no predicted samples. Use `zero_division` parameter to control this behavior.\n",
            "  _warn_prf(average, modifier, msg_start, len(result))\n"
          ]
        }
      ]
    },
    {
      "cell_type": "code",
      "source": [],
      "metadata": {
        "id": "C7bM_QWW1HG3"
      },
      "execution_count": null,
      "outputs": []
    },
    {
      "cell_type": "code",
      "source": [],
      "metadata": {
        "id": "14e3LLDg1HKV"
      },
      "execution_count": null,
      "outputs": []
    },
    {
      "cell_type": "code",
      "source": [],
      "metadata": {
        "id": "Ba4qz8y51HNd"
      },
      "execution_count": null,
      "outputs": []
    }
  ]
}